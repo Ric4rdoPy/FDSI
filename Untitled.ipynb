{
 "cells": [
  {
   "cell_type": "code",
   "execution_count": 44,
   "metadata": {},
   "outputs": [
    {
     "name": "stdout",
     "output_type": "stream",
     "text": [
      "Linhas de entrada:  38\n",
      "  Linhas de saída:  38\n"
     ]
    }
   ],
   "source": [
    "#------------------------------------------------------------------------------------------------------------------------#\n",
    "# Script responsável por ler um arquivo no formato 'csv'(Log.txt) e realizar o processo 'wrangling' para, posteriormente,#\n",
    "# produzir um Dataframe. Ao final, gera um arquivo no formato 'csv' (log_csv)                                            #\n",
    "# Autor: Ricardo AURÉLIO                                                                                                 #\n",
    "#------------------------------------------------------------------------------------------------------------------------#\n",
    "import pandas as pd\n",
    "import warnings\n",
    "warnings.filterwarnings(\"ignore\")\n",
    "#\n",
    "#---[Leitura e limpeza do arquivo csv de origem]\n",
    "#\n",
    "file_out = open(\"LogTmp.csv\",\"w\")\n",
    "with open('Log.txt','r') as f:\n",
    "    reg_in = 0\n",
    "    reg_out = 0\n",
    "    for linha in f:\n",
    "        linha_limpa = linha.replace(\";\" , \",\").replace('\"\"',\"NaN\").replace(\"--\",\"NaN\").replace(\"}\",\"\").replace(\"{\",\"\")\n",
    "        file_out.write(linha_limpa)\n",
    "        reg_in += 1\n",
    "        reg_out += 1\n",
    "    file_out.close\n",
    "    print(\"Linhas de entrada: \", reg_in)\n",
    "    print(\"  Linhas de saída: \", reg_out)\n",
    "#\n",
    "#----[Lista que nomeia as colunas do Dataframe]\n",
    "#\n",
    "cols = [\"Idt_msg_log\",\"Msg_validacao\",\"Bool_1\",\"Nr\", \"Dt_ini_vig\", \"Dt_fim_vig\", \"Dt_emissao\", \"Dt_contrato\", \"Nr_proposta\",\n",
    "       \"Possui_fam\", \"Nr_certif\", \"Nr_apol\", \"Nome_estipul\", \"Cod_subestipul\", \"Nome_subestipul\", \"Nome_segurado\",\n",
    "       \"CPF_segurado\", \"Dt_nasc_segurado\", \"Idade_segurado\", \"Sexo\", \"Tp_associado\", \"Prec_matr_segurado\", \"Profissao_segurado\",\n",
    "       \"Cod_profissao\", \"Nacionalidade\", \"Estado_civil\", \"Nr_sorteio\", \"Cobert01\", \"Cobert02\", \"Cobert03\", \"Cobert04\",\n",
    "       \"Cobert05\", \"Cobert06\", \"Cobert07\", \"Cobert08\", \"Cobert09\", \"Cobert10\", \"Cobert11\", \"Cobert12\", \"Cobert13\",\n",
    "       \"Valor_premio_liq\", \"Periodo_pagto\", \"Forma_cobr\", \"Dia_pagto\", \"Endereco_segurado\", \"Nr_logradouro\", \"Compl_endereco\",\n",
    "       \"Bairro_segurado\", \"Cidade_segurado\", \"UF_segurado\", \"CEP_segurado\", \"Fone_resid_segurado\", \"Fone_comerc_segurado\",\n",
    "       \"Email_segurado\", \"Cod_banco\", \"Nome_banco\", \"Tp_conta\", \"Agencia_banco\", \"Dv_agencia_banco\", \"Conta_banco\",\n",
    "       \"Nome_conjuge\", \"Dt_nasc_conjuge\", \"CPF_conjuge\", \"Profissao_conjuge\", \"Nacionalidade_conjuge\", \"Status_apol\",\n",
    "       \"Mot_recusa_cancel\", \"Cod_corretor\", \"Nome_corretor\", \"Perc_corretagem_corretor\",\"Cod_cocorretor\", \"Nome_cocorretor\",\n",
    "       \"Perc_corretagem_cocorretor\", \"Cod_agenciador\", \"Nome_agenciador\", \"Percent_agenciamento\", \"Doc_prolabore\",\"Nome_prolabore\",\n",
    "       \"Percent_prolabore\", \"Matric_angariador\", \"Nr_endosso\", \"Dt_endosso\", \"Tp_endosso\", \"Pend_endosso\",\n",
    "       \"Status_endosso\", \"Nr_segmt_militar\", \"Nome_segmt_militar\", \"Nr_pst_graduacao\", \"Nome_pst_graduacao\", \"Nr_om\"]\n",
    "\n",
    "frep = lambda x : (x[x.find(':')+1:None].replace('\"','')) # Elimina o dataname do conteúdo da coluna (Presente na Log)\n",
    "sentinelas = {col : frep for col in cols} # Cria dicionário com as colunas previamente tratadas\n",
    "#----[Cria o Dataframe]\n",
    "df =  pd.read_csv('LogTmp.csv', names=cols, encoding=\"ISO-8859-1\", delimiter=',', dtype=str,\n",
    "      converters = sentinelas, na_values=['NULL'])\n",
    "#----[Grava o Dataframe em formato csv]\n",
    "df.to_csv(\"log_csv\", sep=';', encoding='ISO-8859-1', index=False)\n",
    "#-----------------------------------------------------------------------------------------------------------------------------#"
   ]
  }
 ],
 "metadata": {
  "kernelspec": {
   "display_name": "Python 3",
   "language": "python",
   "name": "python3"
  },
  "language_info": {
   "codemirror_mode": {
    "name": "ipython",
    "version": 3
   },
   "file_extension": ".py",
   "mimetype": "text/x-python",
   "name": "python",
   "nbconvert_exporter": "python",
   "pygments_lexer": "ipython3",
   "version": "3.7.0"
  }
 },
 "nbformat": 4,
 "nbformat_minor": 2
}
